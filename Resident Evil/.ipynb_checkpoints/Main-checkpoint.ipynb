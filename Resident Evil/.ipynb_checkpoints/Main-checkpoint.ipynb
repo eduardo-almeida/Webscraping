{
 "cells": [
  {
   "cell_type": "code",
   "execution_count": 1,
   "metadata": {},
   "outputs": [],
   "source": [
    "import pandas as pd\n",
    "import requests\n",
    "from bs4 import BeautifulSoup "
   ]
  },
  {
   "cell_type": "markdown",
   "metadata": {},
   "source": [
    "Estamos usando esse site para exemplo:\n",
    "http://www.residentevildatabase.com/personagens/"
   ]
  },
  {
   "cell_type": "code",
   "execution_count": 2,
   "metadata": {},
   "outputs": [],
   "source": [
    "def get_aparicoes(url):\n",
    "    html = requests.get(url)\n",
    "    bs_obj = BeautifulSoup(html.text, \"lxml\")\n",
    "    h4 = bs_obj.find({'h4':'Aparições em títulos da série:'})\n",
    "    lista = [i.text for i in h4.find_next().find_all(\"a\")]\n",
    "    return lista\n",
    "\n",
    "def get_character(url):\n",
    "    lista = get_aparicoes(url)\n",
    "    nome = [url.split(\"/\")[-2]]* len(lista)\n",
    "    return pd.DataFrame({\"Nome\": nome, \"Aparição\": lista})\n",
    "\n",
    "def get_all_links(url):\n",
    "    html = requests.get(url)\n",
    "    bs_obj = BeautifulSoup(html.text, \"lxml\")\n",
    "    links = []\n",
    "    h3 = bs_obj.find_all(\"h3\", style = \"padding-left: 30px;\")\n",
    "    for i in h3:\n",
    "        links += [j[\"href\"] for j in i.find_next().find_all(\"a\")]\n",
    "    return links"
   ]
  },
  {
   "cell_type": "code",
   "execution_count": 3,
   "metadata": {},
   "outputs": [],
   "source": [
    "url = \"http://www.residentevildatabase.com/personagens/\"\n",
    "links = get_all_links(url)"
   ]
  },
  {
   "cell_type": "code",
   "execution_count": 4,
   "metadata": {},
   "outputs": [],
   "source": [
    "df = pd.DataFrame()\n",
    "for l in links:\n",
    "    df = pd.concat([df, get_character(l) ] )"
   ]
  },
  {
   "cell_type": "code",
   "execution_count": 5,
   "metadata": {},
   "outputs": [
    {
     "data": {
      "text/html": [
       "<div>\n",
       "<style scoped>\n",
       "    .dataframe tbody tr th:only-of-type {\n",
       "        vertical-align: middle;\n",
       "    }\n",
       "\n",
       "    .dataframe tbody tr th {\n",
       "        vertical-align: top;\n",
       "    }\n",
       "\n",
       "    .dataframe thead th {\n",
       "        text-align: right;\n",
       "    }\n",
       "</style>\n",
       "<table border=\"1\" class=\"dataframe\">\n",
       "  <thead>\n",
       "    <tr style=\"text-align: right;\">\n",
       "      <th></th>\n",
       "      <th>Nome</th>\n",
       "      <th>Aparição</th>\n",
       "    </tr>\n",
       "  </thead>\n",
       "  <tbody>\n",
       "    <tr>\n",
       "      <th>0</th>\n",
       "      <td>four-eyes-christine-yamata</td>\n",
       "      <td>Biohazard / Resident Evil: Operation Raccoon City</td>\n",
       "    </tr>\n",
       "    <tr>\n",
       "      <th>1</th>\n",
       "      <td>forest-speyer</td>\n",
       "      <td>Biohazard / Resident Evil Remake</td>\n",
       "    </tr>\n",
       "    <tr>\n",
       "      <th>0</th>\n",
       "      <td>sherry-birkin</td>\n",
       "      <td>Biohazard / Resident Evil 2</td>\n",
       "    </tr>\n",
       "    <tr>\n",
       "      <th>1</th>\n",
       "      <td>albert-wesker</td>\n",
       "      <td>Biohazard / Resident Evil CODE: Veronica</td>\n",
       "    </tr>\n",
       "    <tr>\n",
       "      <th>0</th>\n",
       "      <td>rani-chawla</td>\n",
       "      <td>Biohazard / Resident Evil: Degeneration</td>\n",
       "    </tr>\n",
       "    <tr>\n",
       "      <th>5</th>\n",
       "      <td>albert-wesker</td>\n",
       "      <td>Biohazard / Resident Evil: Deadly Silence</td>\n",
       "    </tr>\n",
       "    <tr>\n",
       "      <th>0</th>\n",
       "      <td>bitores-mendez</td>\n",
       "      <td>Biohazard / Resident Evil 4</td>\n",
       "    </tr>\n",
       "    <tr>\n",
       "      <th>4</th>\n",
       "      <td>hunk</td>\n",
       "      <td>Biohazard RE:2 / Resident Evil 2</td>\n",
       "    </tr>\n",
       "    <tr>\n",
       "      <th>0</th>\n",
       "      <td>marguerite-baker</td>\n",
       "      <td>Biohazard / Resident Evil 7</td>\n",
       "    </tr>\n",
       "    <tr>\n",
       "      <th>6</th>\n",
       "      <td>albert-wesker</td>\n",
       "      <td>Biohazard Umbrella Chronicles / Resident Evil:...</td>\n",
       "    </tr>\n",
       "  </tbody>\n",
       "</table>\n",
       "</div>"
      ],
      "text/plain": [
       "                         Nome  \\\n",
       "0  four-eyes-christine-yamata   \n",
       "1               forest-speyer   \n",
       "0               sherry-birkin   \n",
       "1               albert-wesker   \n",
       "0                 rani-chawla   \n",
       "5               albert-wesker   \n",
       "0              bitores-mendez   \n",
       "4                        hunk   \n",
       "0            marguerite-baker   \n",
       "6               albert-wesker   \n",
       "\n",
       "                                            Aparição  \n",
       "0  Biohazard / Resident Evil: Operation Raccoon City  \n",
       "1                   Biohazard / Resident Evil Remake  \n",
       "0                        Biohazard / Resident Evil 2  \n",
       "1           Biohazard / Resident Evil CODE: Veronica  \n",
       "0            Biohazard / Resident Evil: Degeneration  \n",
       "5          Biohazard / Resident Evil: Deadly Silence  \n",
       "0                        Biohazard / Resident Evil 4  \n",
       "4                   Biohazard RE:2 / Resident Evil 2  \n",
       "0                        Biohazard / Resident Evil 7  \n",
       "6  Biohazard Umbrella Chronicles / Resident Evil:...  "
      ]
     },
     "execution_count": 5,
     "metadata": {},
     "output_type": "execute_result"
    }
   ],
   "source": [
    "df.sample(10)"
   ]
  },
  {
   "cell_type": "code",
   "execution_count": 6,
   "metadata": {},
   "outputs": [],
   "source": [
    "df.to_csv('data/personagens.csv')"
   ]
  },
  {
   "cell_type": "code",
   "execution_count": 7,
   "metadata": {},
   "outputs": [
    {
     "data": {
      "text/html": [
       "<div>\n",
       "<style scoped>\n",
       "    .dataframe tbody tr th:only-of-type {\n",
       "        vertical-align: middle;\n",
       "    }\n",
       "\n",
       "    .dataframe tbody tr th {\n",
       "        vertical-align: top;\n",
       "    }\n",
       "\n",
       "    .dataframe thead th {\n",
       "        text-align: right;\n",
       "    }\n",
       "</style>\n",
       "<table border=\"1\" class=\"dataframe\">\n",
       "  <thead>\n",
       "    <tr style=\"text-align: right;\">\n",
       "      <th></th>\n",
       "      <th>Nome</th>\n",
       "      <th>Aparição</th>\n",
       "    </tr>\n",
       "  </thead>\n",
       "  <tbody>\n",
       "    <tr>\n",
       "      <th>0</th>\n",
       "      <td>ada-wong</td>\n",
       "      <td>Biohazard / Resident Evil 2</td>\n",
       "    </tr>\n",
       "    <tr>\n",
       "      <th>1</th>\n",
       "      <td>ada-wong</td>\n",
       "      <td>Biohazard / Resident Evil 4</td>\n",
       "    </tr>\n",
       "    <tr>\n",
       "      <th>2</th>\n",
       "      <td>ada-wong</td>\n",
       "      <td>Biohazard / Resident Evil: Operation Raccoon City</td>\n",
       "    </tr>\n",
       "    <tr>\n",
       "      <th>3</th>\n",
       "      <td>ada-wong</td>\n",
       "      <td>Biohazard / Resident Evil: Damnation</td>\n",
       "    </tr>\n",
       "    <tr>\n",
       "      <th>4</th>\n",
       "      <td>ada-wong</td>\n",
       "      <td>Biohazard / Resident Evil 6</td>\n",
       "    </tr>\n",
       "  </tbody>\n",
       "</table>\n",
       "</div>"
      ],
      "text/plain": [
       "       Nome                                           Aparição\n",
       "0  ada-wong                        Biohazard / Resident Evil 2\n",
       "1  ada-wong                        Biohazard / Resident Evil 4\n",
       "2  ada-wong  Biohazard / Resident Evil: Operation Raccoon City\n",
       "3  ada-wong               Biohazard / Resident Evil: Damnation\n",
       "4  ada-wong                        Biohazard / Resident Evil 6"
      ]
     },
     "execution_count": 7,
     "metadata": {},
     "output_type": "execute_result"
    }
   ],
   "source": [
    "df.head()"
   ]
  },
  {
   "cell_type": "code",
   "execution_count": null,
   "metadata": {},
   "outputs": [],
   "source": []
  }
 ],
 "metadata": {
  "kernelspec": {
   "display_name": "Python 3",
   "language": "python",
   "name": "python3"
  },
  "language_info": {
   "codemirror_mode": {
    "name": "ipython",
    "version": 3
   },
   "file_extension": ".py",
   "mimetype": "text/x-python",
   "name": "python",
   "nbconvert_exporter": "python",
   "pygments_lexer": "ipython3",
   "version": "3.7.3"
  }
 },
 "nbformat": 4,
 "nbformat_minor": 2
}
