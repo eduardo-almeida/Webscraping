{
 "cells": [
  {
   "cell_type": "code",
   "execution_count": 4,
   "metadata": {},
   "outputs": [],
   "source": [
    "import os\n",
    "import time\n",
    "import re\n",
    "import json\n",
    "from datetime import datetime\n",
    "from selenium import webdriver\n",
    "from selenium.webdriver.common.keys import Keys\n",
    "from collections import Counter as cnt"
   ]
  },
  {
   "cell_type": "markdown",
   "metadata": {},
   "source": [
    "Site utilizado: https://www.climatempo.com.br/previsao-do-tempo/cidade/60/fortaleza-ce"
   ]
  },
  {
   "cell_type": "code",
   "execution_count": 5,
   "metadata": {},
   "outputs": [],
   "source": [
    "class newbot:\n",
    "\n",
    "    def __init__(self, nome_bot):\n",
    "        self.driver = webdriver.Firefox()\n",
    "\n",
    "    def climaTempo(self):\n",
    "        try:\n",
    "\n",
    "            site  = 'https://www.climatempo.com.br'\n",
    "            self.driver.get(site)\n",
    "            self.driver.implicitly_wait(20)\n",
    "\n",
    "            i = 0\n",
    "            while True:\n",
    "                estado=11\n",
    "                cidades = [70,217] \n",
    "\n",
    "                #11 = Minas Gerais\n",
    "                #70 = Belo Horizonte, 217 = Contagem\n",
    "\n",
    "                self.driver.find_element_by_xpath('//*[@id=\"momento-localidade\"]').click()\n",
    "                self.driver.find_element_by_xpath('/html/body/div[7]/select[1]/option[' + str(estado) + ']').click()\n",
    "                self.driver.find_element_by_xpath('/html/body/div[7]/select[2]/option[' + str(cidades[i]) + ']').click()\n",
    "                self.driver.find_element_by_xpath('//*[@id=\"btn-confirm-geo\"]').click() \n",
    "\n",
    "                time.sleep(20)\n",
    "\n",
    "                localidade = self.driver.find_element_by_xpath('//*[@id=\"momento-localidade\"]').text\n",
    "                temperatura = self.driver.find_element_by_xpath('//*[@id=\"momento-temperatura\"]').text\n",
    "                condicao = self.driver.find_element_by_xpath('//*[@id=\"momento-condicao\"]').text\n",
    "                sensacao = self.driver.find_element_by_xpath('//*[@id=\"momento-sensacao\"]').text\n",
    "                humidade = self.driver.find_element_by_xpath('//*[@id=\"momento-humidade\"]').text\n",
    "                pressao = self.driver.find_element_by_xpath('//*[@id=\"momento-pressao\"]').text\n",
    "                velocVento = self.driver.find_element_by_xpath('//*[@id=\"momento-vento\"]').text\n",
    "                ultimaAtualizacao = self.driver.find_element_by_xpath('//*[@id=\"momento-atualizacao\"]').text\n",
    "\n",
    "                dat = datetime.now().strftime(\"%Y-%m-%d %H:%M:%S\")\n",
    "\n",
    "                print(\"Localidade: \" + localidade)\n",
    "                print(\"Temperatura: \" + temperatura)\n",
    "                print(\"Condição: \" + condicao)\n",
    "                print(\"Sensação Termica: \" + sensacao)\n",
    "                print(\"Humidade: \" + humidade)\n",
    "                print(\"Pressão: \" + pressao)\n",
    "                print(\"Velocidade do Vento: \" + velocVento)\n",
    "                print(\"Ultima Atualização Clima Tempo: \" + ultimaAtualizacao)\n",
    "                print(\"Data da Consulta: \" + dat)\n",
    "                print('-----------------------------')\n",
    "\n",
    "                time.sleep(10)\n",
    "\n",
    "                dados = localidade + ';' + temperatura + ';' + condicao + ';' + sensacao + ';' + humidade + ';' + pressao + ';' + velocVento  + ';' + ultimaAtualizacao + ';' + dat\n",
    "                self.salvaDados(dados)\n",
    "\n",
    "                i+=1\n",
    "                if(i>1):\n",
    "                    i=0\n",
    "        except:\n",
    "            self.driver.close()\n",
    "            self.erro()\n",
    "\n",
    "\n",
    "    def erro(self):\n",
    "         self.climaTempo()\n",
    "\n",
    "    def salvaDados(self, dados):\n",
    "        datt = datetime.now().date().strftime(\"%Y-%m-%d\")\n",
    "        arquivo = open('C:/Users/rafael.dourado/Desktop/ClimaTempo/Dados - ' + datt + '.txt', 'a')\n",
    "        arquivo.write(dados + '\\n')\n",
    "        arquivo.close()"
   ]
  },
  {
   "cell_type": "code",
   "execution_count": null,
   "metadata": {},
   "outputs": [],
   "source": []
  }
 ],
 "metadata": {
  "kernelspec": {
   "display_name": "Python 3",
   "language": "python",
   "name": "python3"
  },
  "language_info": {
   "codemirror_mode": {
    "name": "ipython",
    "version": 3
   },
   "file_extension": ".py",
   "mimetype": "text/x-python",
   "name": "python",
   "nbconvert_exporter": "python",
   "pygments_lexer": "ipython3",
   "version": "3.7.3"
  }
 },
 "nbformat": 4,
 "nbformat_minor": 2
}
